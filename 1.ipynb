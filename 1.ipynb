{
 "cells": [
  {
   "cell_type": "markdown",
   "id": "00847011",
   "metadata": {},
   "source": [
    "Writing a program in python to use most common looping construct “for loop” in parallel way. \n",
    "Adopt multiple techniques for implementation like: \n",
    "1) concurrent.future\n",
    "2) multi Processing modules\t"
   ]
  },
  {
   "cell_type": "code",
   "execution_count": 5,
   "id": "863105a7",
   "metadata": {},
   "outputs": [
    {
     "name": "stdout",
     "output_type": "stream",
     "text": [
      "[0, 16, 6, 12, 10, 4, 18, 2, 14, 8]\n"
     ]
    }
   ],
   "source": [
    "# 1) concurrent.future\n",
    "\n",
    "import concurrent.futures\n",
    "def task(i):\n",
    "    return i * 2\n",
    "with concurrent.futures.ThreadPoolExecutor() as executor:\n",
    "    futures = [executor.submit(task, i) for i in range(10)]\n",
    "    results = [future.result() for future in concurrent.futures.as_completed(futures)]\n",
    "print(results)"
   ]
  },
  {
   "cell_type": "code",
   "execution_count": 6,
   "id": "2218c743",
   "metadata": {},
   "outputs": [
    {
     "name": "stdout",
     "output_type": "stream",
     "text": [
      "ID of main process: 22072\n",
      "ID of process p1: 5900\n",
      "ID of process p2: 3656\n",
      "Both processes finished execution!\n"
     ]
    }
   ],
   "source": [
    "# 2) multi Processing modules\n",
    "\n",
    "import multiprocessing\n",
    "import os\n",
    "def worker1():\n",
    "    print(\"ID of process running worker1: {}\".format(os.getpid()))\n",
    "def worker2():\n",
    "    print(\"ID of process running worker2: {}\".format(os.getpid()))\n",
    "if __name__ == \"__main__\":\n",
    "    print(\"ID of main process: {}\".format(os.getpid()))\n",
    "    p1 = multiprocessing.Process(target=worker1)\n",
    "    p2 = multiprocessing.Process(target=worker2)\n",
    "    p1.start()\n",
    "    p2.start()\n",
    "    print(\"ID of process p1: {}\".format(p1.pid))\n",
    "    print(\"ID of process p2: {}\".format(p2.pid))\n",
    "    p1.join()\n",
    "    p2.join()\n",
    "    print(\"Both processes finished execution!\")"
   ]
  },
  {
   "cell_type": "code",
   "execution_count": null,
   "id": "1cead0e9",
   "metadata": {},
   "outputs": [],
   "source": []
  }
 ],
 "metadata": {
  "kernelspec": {
   "display_name": "Python 3 (ipykernel)",
   "language": "python",
   "name": "python3"
  },
  "language_info": {
   "codemirror_mode": {
    "name": "ipython",
    "version": 3
   },
   "file_extension": ".py",
   "mimetype": "text/x-python",
   "name": "python",
   "nbconvert_exporter": "python",
   "pygments_lexer": "ipython3",
   "version": "3.9.13"
  }
 },
 "nbformat": 4,
 "nbformat_minor": 5
}
